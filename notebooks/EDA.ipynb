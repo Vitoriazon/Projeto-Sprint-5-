{
 "cells": [
  {
   "cell_type": "code",
   "execution_count": null,
   "id": "57e7774e",
   "metadata": {},
   "outputs": [],
   "source": [
    "import pandas as pd\n",
    "import plotly.express as px\n",
    "\n",
    "car_data = pd.read_csv('../vehicles_us.csv')  # lendo os dados\n",
    "fig = px.histogram(car_data, x=\"odometer\")  # criar um histograma\n",
    "fig.show()  # exibindo\n",
    "\n"
   ]
  },
  {
   "cell_type": "code",
   "execution_count": null,
   "id": "4914eedc",
   "metadata": {},
   "outputs": [],
   "source": [
    "import pandas as pd\n",
    "import plotly.express as px\n",
    "\n",
    "car_data = pd.read_csv('../vehicles_us.csv')  # lendo os dados\n",
    "criar um gráfico de dispersão\n",
    "fig = px.scatter(car_data, x=\"odometer\", y=\"price\")\n",
    "fig.show()"
   ]
  }
 ],
 "metadata": {
  "kernelspec": {
   "display_name": "Python 3",
   "language": "python",
   "name": "python3"
  },
  "language_info": {
   "name": "python",
   "version": "3.13.3"
  }
 },
 "nbformat": 4,
 "nbformat_minor": 5
}
